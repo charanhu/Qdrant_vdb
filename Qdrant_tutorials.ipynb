{
 "cells": [
  {
   "cell_type": "markdown",
   "metadata": {},
   "source": [
    "# Install the QdrantClient library"
   ]
  },
  {
   "cell_type": "code",
   "execution_count": null,
   "metadata": {},
   "outputs": [],
   "source": [
    "# !pip install 'qdrant-client[fastembed]' --quiet --upgrade"
   ]
  },
  {
   "cell_type": "markdown",
   "metadata": {},
   "source": [
    "# Import required libraries"
   ]
  },
  {
   "cell_type": "code",
   "execution_count": null,
   "metadata": {},
   "outputs": [],
   "source": [
    "from typing import List\n",
    "from qdrant_client import QdrantClient"
   ]
  },
  {
   "cell_type": "markdown",
   "metadata": {},
   "source": [
    "# Sample documents"
   ]
  },
  {
   "cell_type": "code",
   "execution_count": null,
   "metadata": {},
   "outputs": [],
   "source": [
    "\n",
    "documents: List[str] = [\n",
    "    \"Puneeth Rajkumar, son of Kannada cinema`s most celebrated actor Rajkumar, is an actor, playback singer and television presenter, who predominantly works in the Kannada film industry.\",\n",
    "    \"Puneeth started acting as a child artist and eventually expanded his career to singing and television presenting. His commercial successes are Abhi, Aakash, Arasu, Milana, Vamshi, Jackie, Hudugaru and Anna Bond.\",\n",
    "    \"Puneeth Rajkumar was born in Madras, Tamil Nadu. He is the son of legendary Kannada actor Rajkumar and Parvathamma Rajkumar who is a film producer and distributor.\",\n",
    "    \"Puneeth tied the knot with Ashwini in the year 1999. The couple first met through a common friend and kept in touch after that. They were friends for a long time and later fell in love. They have two daughters Driti and Vandhita.\",\n",
    "    \"He made his first silver screen appearance when he was just six months old, in director V. Somashekar`s Premada Kanike, in 1976.\",\n",
    "    \"In 2002 came his debut as a lead actor in the romantic masala film Appu, directed by Puri Jagannadh opposite Rakshita.\",\n",
    "    \"He sang the song Taliban Alla Alla in Appu and was also praised for his dancing skills. After this superhit movie, in the very next year, he worked in Dinesh Babu`s Abhi, again as a college boy.\",\n",
    "    \"His 2016 releases include M. Saravanan`s Chakravyuha, Duniya Soori`s Doddmane Hudga and Chethan`s James. His 2019 release includes Natasaarvabhowma. His 2021 release includes the action-thriller film Yuvarathnaa.\"\n",
    "    ]"
   ]
  },
  {
   "cell_type": "markdown",
   "metadata": {},
   "source": [
    "# Name of the collection"
   ]
  },
  {
   "cell_type": "code",
   "execution_count": null,
   "metadata": {},
   "outputs": [],
   "source": [
    "input_collection_name = \"Puneeth_Rajkumar\""
   ]
  },
  {
   "cell_type": "markdown",
   "metadata": {},
   "source": [
    "# Initialize QdrantClient with an in-memory database"
   ]
  },
  {
   "cell_type": "code",
   "execution_count": null,
   "metadata": {},
   "outputs": [],
   "source": [
    "client = QdrantClient(\":memory:\")"
   ]
  },
  {
   "cell_type": "markdown",
   "metadata": {},
   "source": [
    "# Add documents to the collection"
   ]
  },
  {
   "cell_type": "code",
   "execution_count": null,
   "metadata": {},
   "outputs": [],
   "source": [
    "client.add(collection_name=input_collection_name, documents=documents)"
   ]
  },
  {
   "cell_type": "code",
   "execution_count": null,
   "metadata": {},
   "outputs": [],
   "source": [
    "client.get_collection(collection_name=input_collection_name)"
   ]
  },
  {
   "cell_type": "markdown",
   "metadata": {},
   "source": [
    "# Query text"
   ]
  },
  {
   "cell_type": "code",
   "execution_count": null,
   "metadata": {},
   "outputs": [],
   "source": [
    "input_query_text = query_text = \"Jackie\""
   ]
  },
  {
   "cell_type": "markdown",
   "metadata": {},
   "source": [
    "# Perform a search query"
   ]
  },
  {
   "cell_type": "code",
   "execution_count": null,
   "metadata": {},
   "outputs": [],
   "source": [
    "seach_results = client.query(collection_name=input_collection_name, query_text=input_query_text)"
   ]
  },
  {
   "cell_type": "markdown",
   "metadata": {},
   "source": [
    "# Display search results"
   ]
  },
  {
   "cell_type": "code",
   "execution_count": null,
   "metadata": {},
   "outputs": [],
   "source": [
    "for result in seach_results:\n",
    "    print(result)"
   ]
  },
  {
   "cell_type": "code",
   "execution_count": null,
   "metadata": {},
   "outputs": [],
   "source": []
  }
 ],
 "metadata": {
  "kernelspec": {
   "display_name": "venv",
   "language": "python",
   "name": "python3"
  },
  "language_info": {
   "codemirror_mode": {
    "name": "ipython",
    "version": 3
   },
   "file_extension": ".py",
   "mimetype": "text/x-python",
   "name": "python",
   "nbconvert_exporter": "python",
   "pygments_lexer": "ipython3",
   "version": "3.11.7"
  }
 },
 "nbformat": 4,
 "nbformat_minor": 2
}
